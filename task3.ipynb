{
 "cells": [
  {
   "cell_type": "code",
   "execution_count": 1,
   "id": "a88ef9c3-7a55-43c4-9938-5bf41ede1e71",
   "metadata": {},
   "outputs": [
    {
     "name": "stdout",
     "output_type": "stream",
     "text": [
      "Password Generator\n"
     ]
    },
    {
     "name": "stdin",
     "output_type": "stream",
     "text": [
      "Enter the desired password length:  11\n",
      "Include uppercase letters? (y/n):  Y\n",
      "Include numbers? (y/n):  Y\n",
      "Include special characters? (y/n):  Y\n"
     ]
    },
    {
     "name": "stdout",
     "output_type": "stream",
     "text": [
      "Generated password: uC9cP(rcmhm\n"
     ]
    },
    {
     "name": "stdin",
     "output_type": "stream",
     "text": [
      "Do you want to generate another password? (y/n):  N\n"
     ]
    }
   ],
   "source": [
    "import string\n",
    "import random\n",
    "\n",
    "def generate_password(length, use_uppercase=True, use_numbers=True, use_special=True):\n",
    "    characters = string.ascii_lowercase\n",
    "    if use_uppercase:\n",
    "        characters += string.ascii_uppercase\n",
    "    if use_numbers:\n",
    "        characters += string.digits\n",
    "    if use_special:\n",
    "        characters += string.punctuation\n",
    "\n",
    "    if length < 1:\n",
    "        return \"Error: Password length must be at least 1\"\n",
    "\n",
    "    password = ''.join(random.choice(characters) for _ in range(length))\n",
    "    return password\n",
    "\n",
    "def main():\n",
    "    print(\"Password Generator\")\n",
    "    while True:\n",
    "        try:\n",
    "            length = int(input(\"Enter the desired password length: \"))\n",
    "            use_uppercase = input(\"Include uppercase letters? (y/n): \").lower() == 'y'\n",
    "            use_numbers = input(\"Include numbers? (y/n): \").lower() == 'y'\n",
    "            use_special = input(\"Include special characters? (y/n): \").lower() == 'y'\n",
    "\n",
    "            password = generate_password(length, use_uppercase, use_numbers, use_special)\n",
    "            print(f\"Generated password: {password}\")\n",
    "\n",
    "            cont = input(\"Do you want to generate another password? (y/n): \").lower()\n",
    "            if cont != 'y':\n",
    "                break\n",
    "        except ValueError:\n",
    "            print(\"Invalid input. Please enter numeric values for password length.\")\n",
    "\n",
    "if __name__ == \"__main__\":\n",
    "        main()\n"
   ]
  }
 ],
 "metadata": {
  "kernelspec": {
   "display_name": "Python 3 (ipykernel)",
   "language": "python",
   "name": "python3"
  },
  "language_info": {
   "codemirror_mode": {
    "name": "ipython",
    "version": 3
   },
   "file_extension": ".py",
   "mimetype": "text/x-python",
   "name": "python",
   "nbconvert_exporter": "python",
   "pygments_lexer": "ipython3",
   "version": "3.11.4"
  }
 },
 "nbformat": 4,
 "nbformat_minor": 5
}
